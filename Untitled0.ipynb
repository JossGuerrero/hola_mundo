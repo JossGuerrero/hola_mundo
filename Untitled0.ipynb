{
  "nbformat": 4,
  "nbformat_minor": 0,
  "metadata": {
    "colab": {
      "provenance": [],
      "authorship_tag": "ABX9TyMqmTkvDdDtVcsDMheyPAFL",
      "include_colab_link": true
    },
    "kernelspec": {
      "name": "python3",
      "display_name": "Python 3"
    },
    "language_info": {
      "name": "python"
    }
  },
  "cells": [
    {
      "cell_type": "markdown",
      "metadata": {
        "id": "view-in-github",
        "colab_type": "text"
      },
      "source": [
        "<a href=\"https://colab.research.google.com/github/JossGuerrero/hola_mundo/blob/main/Untitled0.ipynb\" target=\"_parent\"><img src=\"https://colab.research.google.com/assets/colab-badge.svg\" alt=\"Open In Colab\"/></a>"
      ]
    },
    {
      "cell_type": "markdown",
      "source": [],
      "metadata": {
        "id": "A43okqMiH33t"
      }
    },
    {
      "cell_type": "code",
      "source": [
        "try:\n",
        "    notaExamen = int(input(\"Ingresa tu nota del examen (valores permitidos del 1 al 10): \"))\n",
        "\n",
        "\n",
        "    if 0 <= notaExamen <= 10:\n",
        "        print(\"Es una nota válida.\")\n",
        "\n",
        "\n",
        "        inasistencias = int(input(\"¿Cuántas veces has faltado a clases?: \"))\n",
        "\n",
        "\n",
        "        if inasistencias < 3 and notaExamen >= 8:\n",
        "            print(\"APROBADO\")\n",
        "        else:\n",
        "            print(\"REPROBADO\")\n",
        "    else:\n",
        "        print(\"Solo se permiten notas entre 1 y 10.\")\n",
        "\n",
        "except ValueError:\n",
        "    print(\"Por favor, ingresa un número entero válido.\")\n",
        "\n",
        "print(\"FIN DEL PROGRAMA\")"
      ],
      "metadata": {
        "colab": {
          "base_uri": "https://localhost:8080/"
        },
        "id": "wgQMoBUjkZGb",
        "outputId": "306d90ea-dc6c-400c-8cc7-e9bb876793a7"
      },
      "execution_count": 1,
      "outputs": [
        {
          "output_type": "stream",
          "name": "stdout",
          "text": [
            "Ingresa tu nota del examen (valores permitidos del 1 al 10): 8\n",
            "Es una nota válida.\n",
            "¿Cuántas veces has faltado a clases?: 5\n",
            "REPROBADO\n",
            "FIN DEL PROGRAMA\n"
          ]
        }
      ]
    }
  ]
}