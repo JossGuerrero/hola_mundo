{
  "nbformat": 4,
  "nbformat_minor": 0,
  "metadata": {
    "colab": {
      "provenance": [],
      "authorship_tag": "ABX9TyP11zuzpAQm+ZswFKehzGqC",
      "include_colab_link": true
    },
    "kernelspec": {
      "name": "python3",
      "display_name": "Python 3"
    },
    "language_info": {
      "name": "python"
    }
  },
  "cells": [
    {
      "cell_type": "markdown",
      "metadata": {
        "id": "view-in-github",
        "colab_type": "text"
      },
      "source": [
        "<a href=\"https://colab.research.google.com/github/JossGuerrero/hola_mundo/blob/main/Untitled0.ipynb\" target=\"_parent\"><img src=\"https://colab.research.google.com/assets/colab-badge.svg\" alt=\"Open In Colab\"/></a>"
      ]
    },
    {
      "cell_type": "code",
      "source": [
        "import random\n",
        "\n",
        "nom1 = input(\"Ingresa tu nombre jugador 1: \")\n",
        "nom2 = input(\"Ingresa tu nombre jugador 2: \")\n",
        "\n",
        "print(\"--------------------------------------------------------\")\n",
        "\n",
        "\n",
        "while True:\n",
        "    input(f\"Presiona Enter {nom1} para lanzar el dado...\")\n",
        "    dado1 = random.randint(1, 6)\n",
        "    print(\"Interesante...\")\n",
        "    print(f\"{nom1}, tu número fue {dado1}\")\n",
        "    break\n",
        "\n",
        "print(\"-------------------------------------------------------------\")\n",
        "\n",
        "while True:\n",
        "    input(f\"Presiona Enter {nom2} para lanzar el dado...\")\n",
        "    dado2 = random.randint(1, 6)\n",
        "    print(\"Interesante...\")\n",
        "    print(f\"{nom2}, tu número fue {dado2}\")\n",
        "    break\n",
        "\n",
        "print(\"-------------------------------------------------------------\")\n",
        "\n",
        "\n",
        "if dado1 > dado2:\n",
        "    print(f\"{nom1} gana con {dado1} frente a {nom2} con {dado2}!\")\n",
        "elif dado2 > dado1:\n",
        "    print(f\"{nom2} gana con {dado2} frente a {nom1} con {dado1}!\")\n",
        "else:\n",
        "    print(f\"¡Es un empate! Ambos sacaron {dado1}.\")"
      ],
      "metadata": {
        "id": "MUnqH3m4loAZ"
      },
      "execution_count": null,
      "outputs": []
    }
  ]
}