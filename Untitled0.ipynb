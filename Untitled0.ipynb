{
  "nbformat": 4,
  "nbformat_minor": 0,
  "metadata": {
    "colab": {
      "provenance": [],
      "authorship_tag": "ABX9TyOFgNZTiQ5ngtdTT+ygMcWX",
      "include_colab_link": true
    },
    "kernelspec": {
      "name": "python3",
      "display_name": "Python 3"
    },
    "language_info": {
      "name": "python"
    }
  },
  "cells": [
    {
      "cell_type": "markdown",
      "metadata": {
        "id": "view-in-github",
        "colab_type": "text"
      },
      "source": [
        "<a href=\"https://colab.research.google.com/github/JossGuerrero/hola_mundo/blob/main/Untitled0.ipynb\" target=\"_parent\"><img src=\"https://colab.research.google.com/assets/colab-badge.svg\" alt=\"Open In Colab\"/></a>"
      ]
    },
    {
      "cell_type": "markdown",
      "source": [],
      "metadata": {
        "id": "A43okqMiH33t"
      }
    },
    {
      "cell_type": "code",
      "execution_count": null,
      "metadata": {
        "colab": {
          "base_uri": "https://localhost:8080/"
        },
        "id": "qTKDRBoLH2dA",
        "outputId": "ae351f3e-2ad6-4276-dc78-cc802c86a4e8"
      },
      "outputs": [
        {
          "output_type": "stream",
          "name": "stdout",
          "text": [
            "Bienvenido\n",
            "______________________________________\n",
            "1.Registrarse\n",
            "2.Iniciar sesion\n",
            "3.Salir\n"
          ]
        }
      ],
      "source": [
        "import secrets\n",
        "import string\n",
        "usuarios={}\n",
        "contraseñas={}\n",
        "def registrarse():\n",
        "    usuario_creado=input(\"Ingrese su usuario: \")\n",
        "    if usuario_creado in usuarios:\n",
        "        print(\"El nombre de usuario ya existe\")\n",
        "    elif usuario_creado not in usuarios:\n",
        "        print(f\"Perfecto su usuario es: {usuario_creado}\")\n",
        "        print(\"Desea crear su contraseña o generarla aleatoriamente\")\n",
        "        print(\"1.Crear\")\n",
        "        print(\"2.Aleatorio\")\n",
        "        op=int(input(\"Eliga 1 o 2: \"))\n",
        "        if op == 1:\n",
        "            op_pro2=True\n",
        "            while op_pro2:\n",
        "                contraseña_creada=input(\"Ingrese su contraseña de 8 caracteres: \")\n",
        "                if len(contraseña_creada) == 8:\n",
        "                    print(f\"Perfecto su contraseña a sido creada correctamente: {contraseña_creada}\")\n",
        "                    usuarios[usuario_creado] = contraseña_creada\n",
        "                    contraseñas [usuario_creado] = contraseña_creada\n",
        "                    op_pro2=False\n",
        "                else:\n",
        "                    print(\"Porfavor la contraseña es de 8 caracteres\")\n",
        "        elif op == 2:\n",
        "            contraseña_generada=generar_contraseña(8)\n",
        "            usuarios[usuario_creado] = contraseña_generada\n",
        "            contraseñas [usuario_creado] = contraseña_generada\n",
        "            print(f\"Perfecto su contraseña es: {contraseña_generada}\")\n",
        "            return contraseña_generada,usuario_creado\n",
        "\n",
        "def generar_contraseña(longitud=8):\n",
        "    caracteres = string.ascii_letters + string.digits\n",
        "    contraseña = ''.join(secrets.choice(caracteres) for _ in range(longitud))\n",
        "    return contraseña\n",
        "\n",
        "def iniciar_sesion():\n",
        "    nombre_usuario=input(\"Ingrese su nombre de usuario: \")\n",
        "    if nombre_usuario not in usuarios:\n",
        "        print(\"Nombre de usuario no encontrado\")\n",
        "    elif nombre_usuario in usuarios:\n",
        "        contraseña=input(\"Ingresar contraseña: \")\n",
        "        if contraseñas.get(nombre_usuario) == contraseña:\n",
        "            print(\"Sesion Exitosa\")\n",
        "        else:\n",
        "            print(\"Contraseña incorrecta\")\n",
        "\n",
        "print(\"Bienvenido\")\n",
        "op_pro=True\n",
        "while op_pro:\n",
        "    print(\"______________________________________\")\n",
        "    print(\"1.Registrarse\")\n",
        "    print(\"2.Iniciar sesion\")\n",
        "    print(\"3.Salir\")\n",
        "    op=int(input(\"Ingrese una opcion del 1 al 3: \"))\n",
        "    print(\"______________________________________\")\n",
        "    if op ==1:\n",
        "        registrarse()\n",
        "    elif op == 2:\n",
        "        iniciar_sesion()\n",
        "    elif op == 3:\n",
        "        print(\"\")\n",
        "        op_pro=False\n",
        "        quit()\n",
        "    elif op <=0:\n",
        "        print(\"Ingresar las opiones del 1 al 3\")\n",
        "    elif op >=4:\n",
        "        print(\"Ingresar las opiones del 1 al 3\")"
      ]
    }
  ]
}