{
  "cells": [
    {
      "cell_type": "markdown",
      "metadata": {
        "id": "view-in-github",
        "colab_type": "text"
      },
      "source": [
        "<a href=\"https://colab.research.google.com/github/JossGuerrero/hola_mundo/blob/main/Welcome_To_Colab.ipynb\" target=\"_parent\"><img src=\"https://colab.research.google.com/assets/colab-badge.svg\" alt=\"Open In Colab\"/></a>"
      ]
    },
    {
      "cell_type": "code",
      "execution_count": null,
      "metadata": {
        "id": "zwFnJsE6vjf8"
      },
      "outputs": [],
      "source": [
        "from datetime import datetime\n",
        "\n",
        "def csubtotal(productos):\n",
        "    return sum(producto['precio'] * producto['cantidad'] for producto in productos)\n",
        "\n",
        "def ctotal(subtotal, iva):\n",
        "    return subtotal * (1 + iva)\n",
        "\n",
        "def pagomensual(montototal, interesanual, meses):\n",
        "    tasainteresmensual = interesanual / 12 / 100\n",
        "    pago_mensual = montototal * (tasainteresmensual * (1 + tasainteresmensual) ** meses) / \\\n",
        "                   ((1 + tasainteresmensual) ** meses - 1)\n",
        "    return pago_mensual\n",
        "\n",
        "def mfactura(cliente, productos, iva):\n",
        "    fecha = datetime.now()\n",
        "    subtotal = csubtotal(productos)\n",
        "    total = ctotal(subtotal, iva)\n",
        "\n",
        "    print(\"\\nFactura\")\n",
        "    print(\"Fecha y Hora:\", fecha.strftime(\"%Y-%m-%d %H:%M:%S\"))\n",
        "    print(\"Cliente:\", f\"{cliente['nombre']} {cliente['apellido']}\")\n",
        "    print(\"N. de cédula:\", cliente['cedula'])\n",
        "    print(\"Productos:\")\n",
        "    for producto in productos:\n",
        "        print(f\"- {producto['nombre']} (Cantidad: {producto['cantidad']}, Precio: {producto['precio']:.2f} €)\")\n",
        "    print(f\"Subtotal: {subtotal:.2f} €\")\n",
        "    print(f\"IVA (15%): {subtotal * iva:.2f} €\")\n",
        "    print(f\"Total: {total:.2f} €\")\n",
        "\n",
        "\n",
        "    print(\"\\nOpciones de pago:\")\n",
        "    print(\"1. Efectivo\")\n",
        "    print(\"2. Tarjeta\")\n",
        "    print(\"3. Transferencia\")\n",
        "\n",
        "    metodo_pago = input(\"Seleccione el método de pago (1/2/3): \").strip()\n",
        "\n",
        "    if metodo_pago == '2':\n",
        "        tasa_interes_anual = float(input(\"Ingrese la tasa de interés anual (en %): \"))\n",
        "        meses = int(input(\"Seleccione el número de meses para financiar (6 o 12): \"))\n",
        "\n",
        "        if meses not in [6, 12]:\n",
        "            print(\"Número de meses no válido. Se usará 6 meses por defecto.\")\n",
        "            meses = 6\n",
        "\n",
        "        pago_mensual = pagomensual(total, tasa_interes_anual, meses)\n",
        "        print(f\"Pago mensual en {meses} meses: {pago_mensual:.2f} €\")\n",
        "\n",
        "    print(\"Financiamiento disponible: 3, 6 o 12 meses\")\n",
        "\n",
        "def main():\n",
        "    iva = 0.15\n",
        "    while True:\n",
        "        cliente = {\n",
        "            'nombre': input(\"Ingrese el nombre del cliente: \").strip(),\n",
        "            'apellido': input(\"Ingrese el apellido del cliente: \").strip(),\n",
        "            'cedula': input(\"N. de cédula del cliente: \").strip()\n",
        "        }\n",
        "\n",
        "        while not cliente['cedula'].isdigit() or len(cliente['cedula']) == 0:\n",
        "            cliente['cedula'] = input(\"Por favor, ingrese un número de cédula válido: \").strip()\n",
        "\n",
        "        productos = []\n",
        "        while True:\n",
        "            nombreproducto = input(\"Ingrese el nombre del producto (o 'fin' para terminar): \").strip()\n",
        "            if nombreproducto.lower() == 'fin':\n",
        "                break\n",
        "\n",
        "            cantidad = int(input(\"Ingrese la cantidad: \"))\n",
        "            while cantidad <= 0:\n",
        "                cantidad = int(input(\"La cantidad debe ser un número positivo. Ingrese nuevamente: \"))\n",
        "\n",
        "            precio = float(input(\"Ingrese el precio: \"))\n",
        "            while precio < 0:\n",
        "                precio = float(input(\"El precio no puede ser negativo. Ingrese nuevamente: \"))\n",
        "\n",
        "            productos.append({'nombre': nombreproducto, 'cantidad': cantidad, 'precio': precio})\n",
        "\n",
        "        mfactura(cliente, productos, iva)\n",
        "\n",
        "        if input(\"¿Desea generar otra factura? (si/no): \").strip().lower() != 'si':\n",
        "            break\n",
        "\n",
        "if __name__ == \"__main__\":\n",
        "    main()"
      ]
    },
    {
      "cell_type": "code",
      "source": [],
      "metadata": {
        "id": "wXKTufDWl63Y"
      },
      "execution_count": null,
      "outputs": []
    }
  ],
  "metadata": {
    "colab": {
      "name": "Welcome To Colab",
      "toc_visible": true,
      "provenance": [],
      "include_colab_link": true
    },
    "kernelspec": {
      "display_name": "Python 3",
      "name": "python3"
    }
  },
  "nbformat": 4,
  "nbformat_minor": 0
}